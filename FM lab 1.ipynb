{
 "cells": [
  {
   "cell_type": "markdown",
   "id": "e6e55ea6-159a-44d4-8a57-722d5c45dffa",
   "metadata": {},
   "source": [
    "<h1 style=\"text-align: center;\">Лабораторная работа №1</h1>\n",
    "<h2 style=\"text-align: center;\">Ряды Фурье</h2>\n",
    "\n",
    "<p style=\"text-align: center;\">Предмет: Частотные методы</p>\n",
    "<p style=\"text-align: center;\"><i>Выполнил: Шарапов Иван Дмитриевич группа R3237</i></p>\n",
    "<p style=\"text-align: center;\">Лектор: Алексей Алексеевич Перегудин</p>\n",
    "<p style=\"text-align: center;\">Практик: Егор Витальевич Догадин</p>\n"
   ]
  },
  {
   "cell_type": "markdown",
   "id": "cf8ef971-f9ca-47da-838b-b43184973681",
   "metadata": {},
   "source": [
    "## Карта отчета\n",
    "1. [О чем лаба?](#paragraph0)"
   ]
  },
  {
   "cell_type": "markdown",
   "id": "16847aa9-c994-493b-9276-4e2a80b5a49f",
   "metadata": {},
   "source": [
    "## О чем лаба? <a id=\"paragraph0\"></a>"
   ]
  },
  {
   "cell_type": "markdown",
   "id": "e096f44e-e70b-4db0-b9e3-d33304f95ef4",
   "metadata": {},
   "source": [
    "Полагаю, судя из названия ясно что речь идет о рядах Фурье... по ходу выполнения лабы будем разбираться что же от нас просят"
   ]
  },
  {
   "cell_type": "markdown",
   "id": "136f4823-b6f7-4635-8db1-0bd7665ce105",
   "metadata": {},
   "source": [
    "В данном задании мы выбираем значения для переменных $$a, \\  b,\\ t_0, \\ t_1, \\ t_2,$$ удовлетворяющие условиям:\n",
    "$$\n",
    "\\begin{gather}\n",
    "(a, \\ b > 0) \\\\\n",
    "t_2 > t_1 > t_0 > 0\n",
    "\\end{gather}\n",
    "$$\n",
    "\n",
    "Возьмем вот эти значения, полагаю очевидно, что они условиям удовлетворяют:\n",
    "$$a = 2.0, \\ b = 3.5, \\ t_0 = 0.5, \\ t_1 = 1.2, \\ t_2 = 2.7.$$"
   ]
  },
  {
   "cell_type": "markdown",
   "id": "dd245f15-b3cb-4663-ba6e-7400aa2cb182",
   "metadata": {},
   "source": [
    "Нужно задать периодическую функцию (квадратную волну) с периодом \n",
    "$$\n",
    "T = t_2 - t_0\n",
    "$$\n",
    "так, чтобы:\n",
    "$$\n",
    "f(t) = \n",
    "\\begin{cases}\n",
    "a, & t \\in [t_0, t_1) \\\\\n",
    "b, & t \\in [t_1, t_2)\n",
    "\\end{cases}\n",
    "$$\n",
    "и далее функция повторяется с периодом \\(T\\).\n",
    "\n",
    "Получаем\n",
    "\n",
    "$$\n",
    "f(t) = \n",
    "\\begin{cases}\n",
    "2.0, & t \\in [0.5, 1.2) \\\\\n",
    "3.5, & t \\in [1.2, 2.7)\n",
    "\\end{cases}\n",
    "$$\n",
    "\n",
    "Используя выбранные ранее значения получаем период \n",
    "$$T = t_2 - t_0 = 2.7 - 0.5 = 2.2$$\n",
    "\n",
    "Ниже представлен код, который задаёт эту функцию и строит её график на интервале, скажем, от t = 0 до t = 10. \n"
   ]
  },
  {
   "cell_type": "code",
   "execution_count": 1,
   "id": "ec586d0e-f706-46d5-9cbf-642dde2276dc",
   "metadata": {},
   "outputs": [
    {
     "data": {
      "image/png": "[encoded data removed]",
      "text/plain": [
       "<Figure size 800x400 with 1 Axes>"
      ]
     },
     "metadata": {},
     "output_type": "display_data"
    }
   ],
   "source": [
    "import numpy as np\n",
    "import matplotlib.pyplot as plt\n",
    "\n",
    "# Заданные параметры\n",
    "a = 2.0\n",
    "b = 3.5\n",
    "t0 = 0.5\n",
    "t1 = 1.2\n",
    "t2 = 2.7\n",
    "\n",
    "T = t2 - t0  # Период\n",
    "\n",
    "# Определяем квадратную волну как периодическую функцию\n",
    "def square_wave(t):\n",
    "    # Сдвигаем t на t0 и берём по модулю T\n",
    "    x_mod = (t - t0) % T\n",
    "    # Если x_mod < (t1 - t0), возвращаем a, иначе b\n",
    "    if x_mod < (t1 - t0):\n",
    "        return a\n",
    "    else:\n",
    "        return b\n",
    "\n",
    "# Векторизуем функцию для работы с массивами\n",
    "square_wave_vec = np.vectorize(square_wave)\n",
    "\n",
    "# Задаём массив точек времени для построения графика\n",
    "t_values = np.linspace(0, 10, 1000)\n",
    "f_values = square_wave_vec(t_values)\n",
    "\n",
    "# Построение графика\n",
    "plt.figure(figsize=(8, 4))\n",
    "plt.plot(t_values, f_values, label=\"Square wave\")\n",
    "plt.xlabel(\"t\")\n",
    "plt.ylabel(\"f(t)\")\n",
    "plt.title(\"Периодическая квадратная волна\")\n",
    "plt.grid(True)\n",
    "plt.legend()\n",
    "plt.show()\n"
   ]
  },
  {
   "cell_type": "markdown",
   "id": "7d8ba042-8f21-41eb-b62f-791627c33f91",
   "metadata": {},
   "source": [
    "Вот такой вот красивый график нашей квадратной волны получился. Теперь будем рассчитывать частичные суммы рядов Фурье."
   ]
  },
  {
   "cell_type": "markdown",
   "id": "19fdb8d9-e9e1-4e9f-a04a-629a2cab46b2",
   "metadata": {},
   "source": [
    "В ряде Фурье коэффициенты определяются следующими формулами:\n",
    "\n",
    "1. Коэффициент среднего значения (постоянная составляющая):\n",
    "$$\n",
    "a_0 = \\frac{2}{T} \\int_{t_0}^{t_2} f(t)\\,dt,\n",
    "$$\n",
    "где $T = t_2 - t_0$.\n",
    "\n",
    "2. Коэффициенты $a_n$ (для $n \\ge 1$):\n",
    "$$\n",
    "a_n = \\frac{2}{T} \\int_{t_0}^{t_2} f(t)\\cos\\left(\\frac{2\\pi n}{T}t\\right)\\,dt.\n",
    "$$\n",
    "\n",
    "3. Коэффициенты $b_n$ (для $n \\ge 1$):\n",
    "$$\n",
    "b_n = \\frac{2}{T} \\int_{t_0}^{t_2} f(t)\\sin\\left(\\frac{2\\pi n}{T}t\\right)\\,dt.\n",
    "$$\n",
    "\n",
    "4. Комплексные коэффициенты $c_n$:\n",
    "$$\n",
    "c_n = \\frac{1}{T} \\int_{t_0}^{t_2} f(t)e^{-i\\frac{2\\pi n}{T}t}\\,dt.\n",
    "$$\n"
   ]
  },
  {
   "cell_type": "code",
   "execution_count": null,
   "id": "967dbd2f-dff2-49c1-8cf8-3a21a1ab5715",
   "metadata": {},
   "outputs": [],
   "source": []
  }
 ],
 "metadata": {
  "kernelspec": {
   "display_name": "Python 3 (ipykernel)",
   "language": "python",
   "name": "python3"
  },
  "language_info": {
   "codemirror_mode": {
    "name": "ipython",
    "version": 3
   },
   "file_extension": ".py",
   "mimetype": "text/x-python",
   "name": "python",
   "nbconvert_exporter": "python",
   "pygments_lexer": "ipython3",
   "version": "3.12.5"
  }
 },
 "nbformat": 4,
 "nbformat_minor": 5
}
